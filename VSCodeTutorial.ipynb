{
 "cells": [
  {
   "cell_type": "markdown",
   "metadata": {},
   "source": [
    "# Visual Studio Code Guide"
   ]
  },
  {
   "cell_type": "markdown",
   "metadata": {},
   "source": [
    "## What is Visual Studio Code?\n",
    "\n",
    "As a developer, we need a code editor to help us run the code script. Code editor is one of the most important parts of our setup. Visual Studio Code (VS Code) is a free code editor which runs on the macOS, Linux and Windows operating systems. It comes with built-in support for JavaScript, TypeScript and Node.js and has a rich ecosystem of extensions for other languages (such as C++, C#, Java, Python, PHP, Go) and runtimes (such as .NET and Unity).\n",
    "\n",
    "## VS Code Installation\n",
    "\n",
    "VS Code can runs on the macOS, Linux and Windows operating systems. Based on its official page, please follow this step to install git on your machine:\n",
    "\n",
    "### Windows\n",
    "- Download the [Visual Studio Code](https://code.visualstudio.com/docs?dv=win) installer for Windows.\n",
    "- Run the installer (VSCodeUserSetup-{version}.exe). This will only take a minute.\n",
    "- By default, VS Code is installed under C:\\users\\{username}\\AppData\\Local\\Programs\\Microsoft VS Code.\n",
    "\n",
    "> Note: .NET Framework 4.5.2 or higher is required for VS Code. If you are using Windows 7, make sure you have at least .NET Framework 4.5.2 installed.\n",
    "\n",
    "### MAC OS\n",
    "- Download [Visual Studio Code](https://code.visualstudio.com/docs?dv=osx) for macOS.\n",
    "- Double-click on the downloaded archive to expand the contents.\n",
    "- Drag Visual Studio Code.app to the Applications folder, making it available in the Launchpad.\n",
    "- Add VS Code to your Dock by right-clicking on the icon to bring up the context menu and choosing Options, Keep in Dock.\n",
    "\n",
    "### Linux\n",
    "You can do the installation method below if the Linux distribution is Debian or Ubuntu.\n",
    "- Download and install the [.deb package (64-bit)](https://code.visualstudio.com/docs/?dv=linux64_deb), either through the graphical software center if it's available, or through the command line with:\n",
    "\n",
    "```\n",
    "sudo apt install ./<file>.deb\n",
    "\n",
    "# If you're on an older Linux distribution, you will need to run this instead:\n",
    "# sudo dpkg -i <file>.deb\n",
    "# sudo apt-get install -f # Install dependencies\n",
    "```\n",
    "\n",
    "If you want install manually without download .deb file before, you can following this script:\n",
    "\n",
    "```\n",
    "curl https://packages.microsoft.com/keys/microsoft.asc | gpg --dearmor > packages.microsoft.gpg\n",
    "sudo install -o root -g root -m 644 packages.microsoft.gpg /usr/share/keyrings/\n",
    "sudo sh -c 'echo \"deb [arch=amd64 signed-by=/usr/share/keyrings/packages.microsoft.gpg] https://packages.microsoft.com/repos/vscode stable main\" > /etc/apt/sources.list.d/vscode.list'\n",
    "```\n",
    "\n",
    "\n",
    "\n",
    "## Extension\n",
    "\n",
    "### Install an Extension\n",
    "#### Python\n",
    "#### Anaconda\n",
    "\n",
    "\n",
    "\n",
    "___________________________________________________________\n",
    "\n",
    "## Working with Python Script\n",
    "\n",
    "### Select Interpreter\n",
    "### Open file/folder\n",
    "### Runing file on terminal\n"
   ]
  }
 ],
 "metadata": {
  "kernelspec": {
   "display_name": "Python 3.7.3 64-bit ('pyfaf2': conda)",
   "language": "python",
   "name": "python37364bitpyfaf2conda55e683b143f04075b40faad4f61dd764"
  },
  "language_info": {
   "codemirror_mode": {
    "name": "ipython",
    "version": 3
   },
   "file_extension": ".py",
   "mimetype": "text/x-python",
   "name": "python",
   "nbconvert_exporter": "python",
   "pygments_lexer": "ipython3",
   "version": "3.7.3"
  },
  "toc": {
   "base_numbering": 1,
   "nav_menu": {},
   "number_sections": true,
   "sideBar": true,
   "skip_h1_title": true,
   "title_cell": "Table of Contents",
   "title_sidebar": "Contents",
   "toc_cell": false,
   "toc_position": {},
   "toc_section_display": true,
   "toc_window_display": true
  }
 },
 "nbformat": 4,
 "nbformat_minor": 2
}
