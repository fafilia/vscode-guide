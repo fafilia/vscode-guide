{
 "cells": [
  {
   "cell_type": "code",
   "execution_count": 5,
   "metadata": {},
   "outputs": [
    {
     "data": {
      "text/plain": [
       "3"
      ]
     },
     "execution_count": 5,
     "metadata": {},
     "output_type": "execute_result"
    }
   ],
   "source": [
    "import OperasiDasar as od\n",
    "od.tambah(1,2)"
   ]
  },
  {
   "cell_type": "code",
   "execution_count": 16,
   "metadata": {},
   "outputs": [],
   "source": [
    "import kalkulus.OperasiDasar as klod \n",
    "import kalkulus.OperasiLanjut as klol"
   ]
  },
  {
   "cell_type": "code",
   "execution_count": 6,
   "metadata": {},
   "outputs": [],
   "source": [
    "from kalkulus import OperasiDasar as klod\n",
    "from kalkulus import OperasiLanjut as klol"
   ]
  },
  {
   "cell_type": "code",
   "execution_count": 8,
   "metadata": {},
   "outputs": [],
   "source": [
    "from kalkulus import OperasiDasar as klod, OperasiLanjut as klol"
   ]
  },
  {
   "cell_type": "code",
   "execution_count": 9,
   "metadata": {},
   "outputs": [
    {
     "name": "stdout",
     "output_type": "stream",
     "text": [
      "Hasil kali: 481\n",
      "Haisl faktorial kali: 904427281912253415323067450838221204008233912542938399624459295051341624215936102105507700609651933054780182827552236625917012873707997465180446144818884380951621853402261546044811224014680525179905246925436144403562559480287297291351450636092285029493052440726754470674038493554162040677688578971360164772834430142030021505308389954894573576646204547598922371884632251760538039358283000656983728974862114751611802663101067816879674035605926507641088598134919458330443045570331214487121634278116315194495043576258498260511890750345205983940539610107233302353915357248229594841229864452183305561907706170001823380868814915977247257978534262006361701414082801022431327960606727758253224458752300221688053926298790507044161424844628777623284371598374524176203194888236933532400147629238706059675369497804280723644525123811251208906171556365379750407861116345451607042922079603269020126546216210506860417292182551795706110790402267866038488118904224604099081548867829760000000000000000000000000000000000000000000000000000000000000000000000000000000000000000000000000000000000000000000000\n"
     ]
    }
   ],
   "source": [
    "from kalkulus import OperasiDasar as klod, OperasiLanjut as klol\n",
    "\n",
    "faktor1 = 13\n",
    "faktor2 = 37\n",
    "\n",
    "nilai1 = klod.kali(faktor1, faktor2)\n",
    "nilai2 = klol.faktorial(nilai1)\n",
    "\n",
    "print(f\"Hasil kali: {nilai1}\")\n",
    "print(f\"Haisl faktorial kali: {nilai2}\")"
   ]
  },
  {
   "cell_type": "code",
   "execution_count": 61,
   "metadata": {},
   "outputs": [
    {
     "data": {
      "text/plain": [
       "'904427281912253415323067450838221204008233912542938399624459295051341624215936102105507700609651933054780182827552236625917012873707997465180446144818884380951621853402261546044811224014680525179905246925436144403562559480287297291351450636092285029493052440726754470674038493554162040677688578971360164772834430142030021505308389954894573576646204547598922371884632251760538039358283000656983728974862114751611802663101067816879674035605926507641088598134919458330443045570331214487121634278116315194495043576258498260511890750345205983940539610107233302353915357248229594841229864452183305561907706170001823380868814915977247257978534262006361701414082801022431327960606727758253224458752300221688053926298790507044161424844628777623284371598374524176203194888236933532400147629238706059675369497804280723644525123811251208906171556365379750407861116345451607042922079603269020126546216210506860417292182551795706110790402267866038488118904224604099081548867829760000000000000000000000000000000000000000000000000000000000000000000000000000000000000000000000000000000000000000000000'"
      ]
     },
     "execution_count": 61,
     "metadata": {},
     "output_type": "execute_result"
    }
   ],
   "source": [
    "str(nilai2)"
   ]
  },
  {
   "cell_type": "code",
   "execution_count": 58,
   "metadata": {},
   "outputs": [],
   "source": [
    "iqbal = {}\n",
    "indah = {}"
   ]
  },
  {
   "cell_type": "code",
   "execution_count": 32,
   "metadata": {},
   "outputs": [],
   "source": [
    "iqbal['beef'] = 86364\n",
    "iqbal['lemon tea'] = 13636\n",
    "\n",
    "indah['veggie'] = 41818\n",
    "indah['egg'] = 5454\n",
    "indah['greentea'] = 10909\n",
    "\n",
    "service = 4745\n",
    "tax = 16293"
   ]
  },
  {
   "cell_type": "code",
   "execution_count": 50,
   "metadata": {},
   "outputs": [],
   "source": [
    "import numpy as np\n",
    "sub_iqbal = sum(list(iqbal.values()))\n",
    "sub_indah = sum(list(indah.values()))\n",
    "\n",
    "final_iqbal = sub_iqbal + (sub_iqbal/(sub_iqbal+sub_indah))*tax + (sub_iqbal/(sub_iqbal+sub_indah))*service\n",
    "final_indah = sub_indah + (sub_indah/(sub_iqbal+sub_indah))*tax + (sub_indah/(sub_iqbal+sub_indah))*service"
   ]
  },
  {
   "cell_type": "code",
   "execution_count": 51,
   "metadata": {},
   "outputs": [
    {
     "data": {
      "text/plain": [
       "179219.0"
      ]
     },
     "execution_count": 51,
     "metadata": {},
     "output_type": "execute_result"
    }
   ],
   "source": [
    "final_indah+final_iqbal"
   ]
  }
 ],
 "metadata": {
  "kernelspec": {
   "display_name": "Algoritma - Python 3.8",
   "language": "python",
   "name": "algo"
  },
  "language_info": {
   "codemirror_mode": {
    "name": "ipython",
    "version": 3
   },
   "file_extension": ".py",
   "mimetype": "text/x-python",
   "name": "python",
   "nbconvert_exporter": "python",
   "pygments_lexer": "ipython3",
   "version": "3.8.1"
  }
 },
 "nbformat": 4,
 "nbformat_minor": 2
}
